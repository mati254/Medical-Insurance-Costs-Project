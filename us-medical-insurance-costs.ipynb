{
 "cells": [
  {
   "cell_type": "markdown",
   "metadata": {},
   "source": [
    "# U.S. Medical Insurance Costs"
   ]
  },
  {
   "cell_type": "markdown",
   "metadata": {},
   "source": [
    "In this project, a **CSV** file with medical insurance costs will be investigated using Python fundamentals. The goal with this project will be to analyse various attributes within **insurance.csv** to learn more about the patient information in the file and gain insight into potential use cases for the dataset."
   ]
  },
  {
   "cell_type": "code",
   "execution_count": 1,
   "metadata": {},
   "outputs": [],
   "source": [
    "# import csv library\n",
    "\n",
    "import csv"
   ]
  },
  {
   "cell_type": "markdown",
   "metadata": {},
   "source": [
    "To start, all necessary libraries must be imported. For this project the only library needed is the `csv` library in order to work with the **insurance.csv** data. There are other potential libraries that could help with this project; however, for this analysis, using just the `csv` library will suffice."
   ]
  },
  {
   "cell_type": "markdown",
   "metadata": {},
   "source": [
    "Next, we'll examine the **insurance.csv** file to familiarise ourselves with the data. We'll review the following aspects of the data file to strategise how to import it into a Python file:\n",
    "\n",
    "- Names of columns and rows.\n",
    "- Any noticeable missing data.\n",
    "- Types of values (numerical vs. categorical)."
   ]
  },
  {
   "cell_type": "code",
   "execution_count": 2,
   "metadata": {},
   "outputs": [],
   "source": [
    "#Create empty lists for the various attributes in insurance.csv\n",
    "ages = []\n",
    "sexes = []\n",
    "bmis = []\n",
    "num_children = []\n",
    "smoker_statuses = []\n",
    "regions = []\n",
    "insurance_charges = []"
   ]
  },
  {
   "cell_type": "markdown",
   "metadata": {},
   "source": [
    "The **insurance.csv** file comprises the following columns:\n",
    "\n",
    "- Patient Age\n",
    "- Patient Sex\n",
    "- Patient BMI\n",
    "- Patient Number of Children\n",
    "- Patient Smoking Status\n",
    "- Patient U.S Geographic Region\n",
    "- Patient Yearly Medical Insurance Cost\n",
    "\n",
    "No missing data has been detected. To store this information, we'll create seven empty lists, each to hold the data from individual columns of **insurance.csv**."
   ]
  },
  {
   "cell_type": "code",
   "execution_count": 3,
   "metadata": {},
   "outputs": [],
   "source": [
    "# helper function to load csv data\n",
    "def load_list_data(lst, csv_file, column_name):\n",
    "    # open csv file\n",
    "    with open(csv_file) as csv_info:\n",
    "        # read the data from the csv file\n",
    "        csv_dict = csv.DictReader(csv_info)\n",
    "        # loop through the data in each row of the csv \n",
    "        for row in csv_dict:\n",
    "            # add the data from each row to a list\n",
    "            lst.append(row[column_name])\n",
    "        # return the list\n",
    "        return lst"
   ]
  },
  {
   "cell_type": "markdown",
   "metadata": {},
   "source": [
    "The helper function mentioned above was designed to streamline the process of loading data into the lists efficiently. Without this function, one would need to manually open **insurance.csv** and rewrite the `for` loop seven times. However, with this function in place, one can simply call `load_list_data()` each time, as demonstrated below."
   ]
  },
  {
   "cell_type": "code",
   "execution_count": null,
   "metadata": {},
   "outputs": [],
   "source": [
    "# look at the data in insurance_csv_dict\n",
    "load_list_data(ages, 'insurance.csv', 'age')\n",
    "load_list_data(sexes, 'insurance.csv', 'sex')\n",
    "load_list_data(bmis, 'insurance.csv', 'bmi')\n",
    "load_list_data(num_children, 'insurance.csv', 'children')\n",
    "load_list_data(smoker_statuses, 'insurance.csv', 'smoker')\n",
    "load_list_data(regions, 'insurance.csv', 'region')\n",
    "load_list_data(insurance_charges, 'insurance.csv', 'charges')"
   ]
  },
  {
   "cell_type": "markdown",
   "metadata": {},
   "source": [
    "Now that all the data from **insurance.csv** is neatly organised into labeled lists, the analysis can begin. This is where we plan what to investigate and how to conduct the analysis. There are various aspects of the data that could be explored. The following operations will be implemented:\n",
    "\n",
    "- Find the average age of the patients.\n",
    "- Return the number of males vs. females counted in the dataset.\n",
    "- Determine the geographical location of the patients.\n",
    "- Calculate the average yearly medical charges of the patients.\n",
    "- Create a dictionary containing all patient information.\n",
    "\n",
    "To execute these analyses, a class named `PatientsInfo` has been constructed. This class includes five methods:\n",
    "\n",
    "- `analyze_ages()`\n",
    "- `analyze_sexes()`\n",
    "- `unique_regions()`\n",
    "- `average_charges()`\n",
    "- `create_dictionary()`\n",
    "\n",
    "The class implementation is provided below."
   ]
  },
  {
   "cell_type": "code",
   "execution_count": null,
   "metadata": {},
   "outputs": [],
   "source": [
    "class PatientsInfo:\n",
    "    # init method that takes in each list parameter\n",
    "    def __init__(self, patients_ages, patients_sexes, patients_bmis, patients_num_children, \n",
    "                 patients_smoker_statuses, patients_regions, patients_charges):\n",
    "        self.patients_ages = patients_ages\n",
    "        self.patients_sexes = patients_sexes\n",
    "        self.patients_bmis = patients_bmis\n",
    "        self.patients_num_children = patients_num_children\n",
    "        self.patients_smoker_statuses = patients_smoker_statuses\n",
    "        self.patients_regions = patients_regions\n",
    "        self.patients_charges = patients_charges\n",
    "\n",
    "    # method that calculates the average ages of the patients in insurance.csv\n",
    "    def analyze_ages(self):\n",
    "        # initialize total age at zero\n",
    "        total_age = 0\n",
    "        # iterate through all ages in the ages list\n",
    "        for age in self.patients_ages:\n",
    "            # sum of the total age\n",
    "            total_age += int(age)\n",
    "        # return total age divided by the length of the patient list\n",
    "        return (\"Average Patient Age: \" + str(round(total_age/len(self.patients_ages), 2)) + \" years\")\n",
    "\n",
    "    # method that calculates the number of males and females in insurance.csv\n",
    "    def analyze_sexes(self):\n",
    "        # initialize number of males and females to zero\n",
    "        females = 0\n",
    "        males = 0\n",
    "        # iterate through each sex in the sexes list\n",
    "        for sex in self.patients_sexes:\n",
    "            # if female add to female variable\n",
    "            if sex == 'female':\n",
    "                females += 1\n",
    "            # if male add to male variable\n",
    "            elif sex == 'male':\n",
    "                males += 1\n",
    "        # print out the number of each\n",
    "        print(\"Count for female: \", females)\n",
    "        print(\"Count for male: \", males)\n",
    "\n",
    "    # method to find each unique region patients are from\n",
    "    def unique_regions(self):\n",
    "        # initialize empty list\n",
    "        unique_regions = []\n",
    "        # iterate through each region in regions list\n",
    "        for region in self.patients_regions:\n",
    "            # if the region is not already in the unique regions list\n",
    "            # then add it to the unique regions list\n",
    "            if region not in unique_regions: \n",
    "                unique_regions.append(region)\n",
    "        # return unique regions list\n",
    "        return unique_regions\n",
    "\n",
    "    # method to find average yearly medical charges for patients in insurance.csv\n",
    "    def average_charges(self):\n",
    "        # initialize total_charges variable\n",
    "        total_charges = 0\n",
    "        # iterate through charges in patients charges list\n",
    "        # add each charge to total_charge\n",
    "        for charge in self.patients_charges:\n",
    "            total_charges += float(charge)\n",
    "        # return the average charges rounded to the hundredths place\n",
    "        return (\"Average Yearly Medical Insurance Charges: \" +  \n",
    "                str(round(total_charges/len(self.patients_charges), 2)) + \" dollars.\")\n",
    "    \n",
    "    # method to create dictionary with all patients information\n",
    "    def create_dictionary(self):\n",
    "        self.patients_dictionary = {}\n",
    "        self.patients_dictionary[\"age\"] = [int(age) for age in self.patients_ages]\n",
    "        self.patients_dictionary[\"sex\"] = self.patients_sexes\n",
    "        self.patients_dictionary[\"bmi\"] = self.patients_bmis\n",
    "        self.patients_dictionary[\"children\"] = self.patients_num_children\n",
    "        self.patients_dictionary[\"smoker\"] = self.patients_smoker_statuses\n",
    "        self.patients_dictionary[\"regions\"] = self.patients_regions\n",
    "        self.patients_dictionary[\"charges\"] = self.patients_charges\n",
    "        return self.patients_dictionary"
   ]
  },
  {
   "cell_type": "markdown",
   "metadata": {},
   "source": [
    "The next step involves creating an instance of the class called `patient_info`. With this instance, each method can be invoked to observe the results of the analysis."
   ]
  },
  {
   "cell_type": "code",
   "execution_count": null,
   "metadata": {},
   "outputs": [],
   "source": [
    "patient_info = PatientsInfo(ages, sexes, bmis, num_children, smoker_statuses, regions, insurance_charges)"
   ]
  },
  {
   "cell_type": "code",
   "execution_count": null,
   "metadata": {},
   "outputs": [],
   "source": [
    "patient_info.analyze_ages()"
   ]
  },
  {
   "cell_type": "markdown",
   "metadata": {},
   "source": [
    "The average age of the patients in **insurance.csv** is approximately 39 years old. This is a crucial check to ensure that the data in **insurance.csv** is representative of a broader population. If the dataset is to be utilised for making inferences about other populations, it must be abundant and broad enough for such use cases.\n",
    "\n",
    "Further analysis would be necessary to ascertain whether the range and standard deviation of the patient age group in **insurance.csv** are indicative of a random sampling of individuals. This would provide more confidence in the dataset's suitability for broader inference purposes."
   ]
  },
  {
   "cell_type": "code",
   "execution_count": null,
   "metadata": {},
   "outputs": [],
   "source": [
    "patient_info.analyze_sexes()"
   ]
  },
  {
   "cell_type": "markdown",
   "metadata": {},
   "source": [
    "The next step of the analysis involves checking the balance of males vs. females in **insurance.csv**. Similar to the previous step, it is important to ensure that this dataset is representative of a broader population of individuals. If one were to use this dataset to create a classification model, it would be imperative to ensure that the attributes are balanced.\n",
    "\n",
    "In many real-world scenarios, data imbalance is a common issue. This imbalance can lead to statistical challenges during analysis."
   ]
  },
  {
   "cell_type": "code",
   "execution_count": null,
   "metadata": {},
   "outputs": [],
   "source": [
    "patient_info.unique_regions()"
   ]
  },
  {
   "cell_type": "markdown",
   "metadata": {},
   "source": [
    "There are four unique geographical regions in this dataset, and it's worth noting that all the patients come from the United States. This information provides context about the geographic distribution of the patients and confirms that the dataset represents a single country, the United States."
   ]
  },
  {
   "cell_type": "code",
   "execution_count": null,
   "metadata": {},
   "outputs": [],
   "source": [
    "patient_info.average_charges()"
   ]
  },
  {
   "cell_type": "markdown",
   "metadata": {},
   "source": [
    "The average yearly medical insurance charge per individual is $13,270. Further analysis could be conducted to determine which patient attributes contribute most strongly to low and/or high medical insurance charges. For instance, one could investigate whether patient age correlates with the amount of money they spend yearly on medical insurance. This exploration could help identify factors that significantly influence insurance charges and potentially inform decisions regarding pricing, risk assessment, and healthcare policy."
   ]
  },
  {
   "cell_type": "code",
   "execution_count": null,
   "metadata": {},
   "outputs": [],
   "source": [
    "patient_info.create_dictionary()"
   ]
  },
  {
   "cell_type": "markdown",
   "metadata": {},
   "source": [
    "Now that all patient data is neatly organised in a dictionary, further analysis becomes more convenient. This format facilitates continued investigations into the attributes present in **insurance.csv**. Having the data structured in a dictionary allows for easy access to individual patient information, making it simpler to conduct additional analyses or extract insights as needed."
   ]
  },
  {
   "cell_type": "markdown",
   "metadata": {},
   "source": [
    "## Conclusions:\n",
    "\n",
    "- Average Patient Age: The average age of patients in the dataset is approximately 39 years old, suggesting a relatively middle-aged demographic. This finding provides valuable insight into the age distribution of individuals covered by medical insurance.\n",
    "\n",
    "- Gender Distribution: The dataset contains information on the balance between males and females. Ensuring a representative balance of gender attributes is essential, especially for classification models. In this dataset, further exploration may be needed to assess the impact of gender on insurance charges or other variables.\n",
    "\n",
    "- Geographical Representation: All patients in the dataset are from the United States, and there are four unique geographical regions represented. Understanding the geographic distribution of patients helps contextualise the dataset within a specific country.\n",
    "\n",
    "- Average Yearly Medical Insurance Charges: The average yearly medical insurance charge per individual is $13,270. This provides a baseline for understanding the typical cost of medical insurance within the dataset.\n",
    "\n",
    "- Patient Data Dictionary: Organising the patient data into a dictionary format enhances its usability for further analysis. This structured approach facilitates easy access to individual patient information and supports continued investigations into various attributes."
   ]
  },
  {
   "cell_type": "markdown",
   "metadata": {},
   "source": [
    "## Further Research Suggestions:\n",
    "\n",
    "- Attribute Correlation Analysis: Investigate the relationship between patient attributes (e.g., age, BMI, smoking status, number of children) and yearly medical insurance charges. Identify attributes that strongly influence insurance charges and explore potential correlations between them.\n",
    "\n",
    "- Predictive Modeling: Build predictive models to forecast medical insurance charges based on patient attributes. Utilise machine learning algorithms such as regression or ensemble methods to predict insurance costs accurately.\n",
    "\n",
    "- Demographic Analysis: Explore demographic trends within the dataset, such as age distributions across different regions or gender disparities in insurance charges. This analysis can provide valuable insights into healthcare disparities and inform targeted interventions.\n",
    "\n",
    "- Risk Assessment: Evaluate the impact of patient attributes on insurance risk assessment. Determine which factors contribute to higher insurance risks and develop strategies to mitigate them effectively.\n",
    "\n",
    "- Longitudinal Analysis: Conduct longitudinal studies to track changes in insurance charges over time and assess the long-term impact of patient attributes on healthcare costs. This analysis can help identify trends and patterns in healthcare utilisation and expenditure.\n",
    "\n",
    "By addressing these research suggestions, one can gain a deeper understanding of the factors influencing medical insurance charges and make informed decisions regarding healthcare policy, pricing strategies, and risk management."
   ]
  }
 ],
 "metadata": {
  "kernelspec": {
   "display_name": "Python 3 (ipykernel)",
   "language": "python",
   "name": "python3"
  },
  "language_info": {
   "codemirror_mode": {
    "name": "ipython",
    "version": 3
   },
   "file_extension": ".py",
   "mimetype": "text/x-python",
   "name": "python",
   "nbconvert_exporter": "python",
   "pygments_lexer": "ipython3",
   "version": "3.9.13"
  }
 },
 "nbformat": 4,
 "nbformat_minor": 4
}
